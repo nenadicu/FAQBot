{
 "cells": [
  {
   "cell_type": "markdown",
   "metadata": {},
   "source": [
    "# TFIDF document-level vectorization technique - Summary Jupyter Notebook"
   ]
  },
  {
   "cell_type": "markdown",
   "metadata": {},
   "source": [
    "### Imports\n"
   ]
  },
  {
   "cell_type": "code",
   "execution_count": 1,
   "metadata": {},
   "outputs": [],
   "source": [
    "import pandas as pd\n",
    "import numpy as np\n",
    "from sklearn.feature_extraction.text import TfidfVectorizer\n",
    "from sklearn.neighbors import NearestNeighbors\n",
    "from sklearn.metrics.pairwise import cosine_distances\n",
    "from sklearn.metrics.pairwise import manhattan_distances\n",
    "from sklearn.metrics.pairwise import euclidean_distances\n",
    "import spacy\n",
    "import nltk\n",
    "from nltk.corpus import wordnet as wn\n",
    "from nltk.stem.snowball import SnowballStemmer\n",
    "from nltk.tokenize import WhitespaceTokenizer as w_tokenizer\n",
    "import numpy\n",
    "import string\n",
    "\n",
    "import matplotlib.pyplot as plt; plt.rcdefaults()\n",
    "import matplotlib.pyplot as plt"
   ]
  },
  {
   "cell_type": "markdown",
   "metadata": {},
   "source": [
    "### Read data"
   ]
  },
  {
   "cell_type": "code",
   "execution_count": 2,
   "metadata": {},
   "outputs": [
    {
     "data": {
      "text/html": [
       "<div>\n",
       "<style scoped>\n",
       "    .dataframe tbody tr th:only-of-type {\n",
       "        vertical-align: middle;\n",
       "    }\n",
       "\n",
       "    .dataframe tbody tr th {\n",
       "        vertical-align: top;\n",
       "    }\n",
       "\n",
       "    .dataframe thead th {\n",
       "        text-align: right;\n",
       "    }\n",
       "</style>\n",
       "<table border=\"1\" class=\"dataframe\">\n",
       "  <thead>\n",
       "    <tr style=\"text-align: right;\">\n",
       "      <th></th>\n",
       "      <th>Question</th>\n",
       "      <th>Answer</th>\n",
       "    </tr>\n",
       "  </thead>\n",
       "  <tbody>\n",
       "    <tr>\n",
       "      <th>0</th>\n",
       "      <td>What Happens When Term Life Insurance Is Paid ...</td>\n",
       "      <td>Actually term life insurance cannot be paid up...</td>\n",
       "    </tr>\n",
       "    <tr>\n",
       "      <th>1</th>\n",
       "      <td>What Happens When Term Life Insurance Is Paid ...</td>\n",
       "      <td>Term life insurance is never paid up. Assuming...</td>\n",
       "    </tr>\n",
       "    <tr>\n",
       "      <th>2</th>\n",
       "      <td>What Happens When Term Life Insurance Is Paid ...</td>\n",
       "      <td>Term Life Insurance does not have the option t...</td>\n",
       "    </tr>\n",
       "    <tr>\n",
       "      <th>3</th>\n",
       "      <td>What Does Renters Insurance Cover?</td>\n",
       "      <td>A renters insurance policy will typically prov...</td>\n",
       "    </tr>\n",
       "    <tr>\n",
       "      <th>4</th>\n",
       "      <td>What Does Renters Insurance Cover?</td>\n",
       "      <td>If you apartment was on fire and all your pers...</td>\n",
       "    </tr>\n",
       "    <tr>\n",
       "      <th>...</th>\n",
       "      <td>...</td>\n",
       "      <td>...</td>\n",
       "    </tr>\n",
       "    <tr>\n",
       "      <th>27989</th>\n",
       "      <td>What is</td>\n",
       "      <td>I'm not sure.\\n</td>\n",
       "    </tr>\n",
       "    <tr>\n",
       "      <th>27990</th>\n",
       "      <td>Can I</td>\n",
       "      <td>I'm not sure.\\n</td>\n",
       "    </tr>\n",
       "    <tr>\n",
       "      <th>27991</th>\n",
       "      <td>Which</td>\n",
       "      <td>I'm not sure.\\n</td>\n",
       "    </tr>\n",
       "    <tr>\n",
       "      <th>27992</th>\n",
       "      <td>Does</td>\n",
       "      <td>I'm not sure.\\n</td>\n",
       "    </tr>\n",
       "    <tr>\n",
       "      <th>27993</th>\n",
       "      <td>Is</td>\n",
       "      <td>I'm not sure.\\n</td>\n",
       "    </tr>\n",
       "  </tbody>\n",
       "</table>\n",
       "<p>27994 rows × 2 columns</p>\n",
       "</div>"
      ],
      "text/plain": [
       "                                                Question  \\\n",
       "0      What Happens When Term Life Insurance Is Paid ...   \n",
       "1      What Happens When Term Life Insurance Is Paid ...   \n",
       "2      What Happens When Term Life Insurance Is Paid ...   \n",
       "3                    What Does Renters Insurance Cover?    \n",
       "4                    What Does Renters Insurance Cover?    \n",
       "...                                                  ...   \n",
       "27989                                           What is    \n",
       "27990                                             Can I    \n",
       "27991                                             Which    \n",
       "27992                                              Does    \n",
       "27993                                                Is    \n",
       "\n",
       "                                                  Answer  \n",
       "0      Actually term life insurance cannot be paid up...  \n",
       "1      Term life insurance is never paid up. Assuming...  \n",
       "2      Term Life Insurance does not have the option t...  \n",
       "3      A renters insurance policy will typically prov...  \n",
       "4      If you apartment was on fire and all your pers...  \n",
       "...                                                  ...  \n",
       "27989                                    I'm not sure.\\n  \n",
       "27990                                    I'm not sure.\\n  \n",
       "27991                                    I'm not sure.\\n  \n",
       "27992                                    I'm not sure.\\n  \n",
       "27993                                    I'm not sure.\\n  \n",
       "\n",
       "[27994 rows x 2 columns]"
      ]
     },
     "execution_count": 2,
     "metadata": {},
     "output_type": "execute_result"
    }
   ],
   "source": [
    "df = pd.read_csv('../../data/insurance_qna_dataset.csv',delimiter=\"\\t\")\n",
    "df.head()\n",
    "df.drop('Unnamed: 0',axis = 1)"
   ]
  },
  {
   "cell_type": "code",
   "execution_count": 3,
   "metadata": {},
   "outputs": [
    {
     "data": {
      "text/html": [
       "<div>\n",
       "<style scoped>\n",
       "    .dataframe tbody tr th:only-of-type {\n",
       "        vertical-align: middle;\n",
       "    }\n",
       "\n",
       "    .dataframe tbody tr th {\n",
       "        vertical-align: top;\n",
       "    }\n",
       "\n",
       "    .dataframe thead th {\n",
       "        text-align: right;\n",
       "    }\n",
       "</style>\n",
       "<table border=\"1\" class=\"dataframe\">\n",
       "  <thead>\n",
       "    <tr style=\"text-align: right;\">\n",
       "      <th></th>\n",
       "      <th>ID</th>\n",
       "      <th>Question</th>\n",
       "      <th>Q'</th>\n",
       "    </tr>\n",
       "  </thead>\n",
       "  <tbody>\n",
       "    <tr>\n",
       "      <th>0</th>\n",
       "      <td>20224</td>\n",
       "      <td>Does Homeowners Insurance Cover Pool Leaks?</td>\n",
       "      <td>Doe Homeowner Insurance Cover Pool Leak ?</td>\n",
       "    </tr>\n",
       "    <tr>\n",
       "      <th>1</th>\n",
       "      <td>20224</td>\n",
       "      <td>Does Homeowners Insurance Cover Pool Leaks?</td>\n",
       "      <td>Does Residents Insurance Cover Pool Leaks?</td>\n",
       "    </tr>\n",
       "    <tr>\n",
       "      <th>2</th>\n",
       "      <td>20224</td>\n",
       "      <td>Does Homeowners Insurance Cover Pool Leaks?</td>\n",
       "      <td>Do Pool Leaks Fall Under Homeowners Insurance?</td>\n",
       "    </tr>\n",
       "    <tr>\n",
       "      <th>3</th>\n",
       "      <td>8359</td>\n",
       "      <td>Does Usaa Offer Disability Insurance?</td>\n",
       "      <td>Doe Usaa Offer Disability Insurances ?</td>\n",
       "    </tr>\n",
       "    <tr>\n",
       "      <th>4</th>\n",
       "      <td>8359</td>\n",
       "      <td>Does Usaa Offer Disability Insurance?</td>\n",
       "      <td>Does Usaa Recommend Disability Insurance?</td>\n",
       "    </tr>\n",
       "  </tbody>\n",
       "</table>\n",
       "</div>"
      ],
      "text/plain": [
       "      ID                                      Question  \\\n",
       "0  20224  Does Homeowners Insurance Cover Pool Leaks?    \n",
       "1  20224  Does Homeowners Insurance Cover Pool Leaks?    \n",
       "2  20224  Does Homeowners Insurance Cover Pool Leaks?    \n",
       "3   8359        Does Usaa Offer Disability Insurance?    \n",
       "4   8359        Does Usaa Offer Disability Insurance?    \n",
       "\n",
       "                                               Q'  \n",
       "0       Doe Homeowner Insurance Cover Pool Leak ?  \n",
       "1     Does Residents Insurance Cover Pool Leaks?   \n",
       "2  Do Pool Leaks Fall Under Homeowners Insurance?  \n",
       "3          Doe Usaa Offer Disability Insurances ?  \n",
       "4      Does Usaa Recommend Disability Insurance?   "
      ]
     },
     "execution_count": 3,
     "metadata": {},
     "output_type": "execute_result"
    }
   ],
   "source": [
    "df_test = pd.read_excel('../../data/testData.xlsx')\n",
    "trueQuestions = df['Question'][df_test['ID']].reset_index()\n",
    "trueQuestions = trueQuestions['Question']\n",
    "df_test.head()"
   ]
  },
  {
   "cell_type": "code",
   "execution_count": 4,
   "metadata": {},
   "outputs": [],
   "source": [
    "df.drop_duplicates('Question', inplace = True, ignore_index = True)"
   ]
  },
  {
   "cell_type": "markdown",
   "metadata": {},
   "source": [
    "## Explore TF-IDF (term frequency - inverse document frequency) with different similarity metrics (cosine, manhattan, euclid) and determine which combination gives the best result.\n"
   ]
  },
  {
   "cell_type": "code",
   "execution_count": 5,
   "metadata": {},
   "outputs": [],
   "source": [
    "def findBestDistanceMetric(x,y,yTrue, nBest = 100):\n",
    "    performance = []\n",
    "    corpus = x\n",
    "    vectorizer = TfidfVectorizer()\n",
    "    X = vectorizer.fit_transform(corpus)\n",
    "    testCorpus = y\n",
    "    Y = vectorizer.transform(testCorpus)\n",
    "    for distanceMetric in ('euclidean_distances','manhattan_distances','cosine_distances'):\n",
    "        score = 0\n",
    "        distance = eval(distanceMetric + '(Y,X)')\n",
    "        for i in range(0, len(yTrue)):\n",
    "            nInd = distance[i,:].argsort()[:nBest]\n",
    "            nQue = corpus[nInd]\n",
    "            realQ = yTrue[i]\n",
    "            temp = 2 * nBest\n",
    "            for k in range(0, nBest):\n",
    "                if realQ == nQue[nInd[k]]:\n",
    "                    temp = k\n",
    "                    break\n",
    "            #if temp > nBest:\n",
    "            #    print('Pravo: ' + realQ)\n",
    "            #    print('Q\\': ' + testCorpus[i]) \n",
    "            score = score + temp\n",
    "        print(distanceMetric + ': ' + str(score))\n",
    "        performance.append(score)\n",
    "    objects = ('euclidean_distances','manhattan_distances','cosine_distances')\n",
    "    y_pos = np.arange(len(objects))\n",
    "    plt.bar(y_pos, performance, align='center', alpha=0.5)\n",
    "    plt.xticks(y_pos, objects)\n",
    "    plt.ylabel('Error')\n",
    "    plt.title('Error for different metrics')\n",
    "    plt.show()     "
   ]
  },
  {
   "cell_type": "code",
   "execution_count": 6,
   "metadata": {},
   "outputs": [
    {
     "name": "stdout",
     "output_type": "stream",
     "text": [
      "euclidean_distances: 1996\n",
      "manhattan_distances: 2079\n",
      "cosine_distances: 1996\n"
     ]
    },
    {
     "data": {
      "image/png": "[encoded data removed]",
      "text/plain": [
       "<Figure size 640x480 with 1 Axes>"
      ]
     },
     "metadata": {},
     "output_type": "display_data"
    }
   ],
   "source": [
    "findBestDistanceMetric(df['Question'], df_test['Q\\''], trueQuestions)"
   ]
  },
  {
   "cell_type": "markdown",
   "metadata": {},
   "source": [
    "## As an addition to TF-IDF + best distance metric, add Lemmatization to the pipeline as a pre-processing step and evaluate how it affects model performance."
   ]
  },
  {
   "cell_type": "code",
   "execution_count": 7,
   "metadata": {},
   "outputs": [
    {
     "name": "stderr",
     "output_type": "stream",
     "text": [
      "[nltk_data] Downloading package wordnet to /home/uros/nltk_data...\n",
      "[nltk_data]   Package wordnet is already up-to-date!\n"
     ]
    },
    {
     "data": {
      "text/plain": [
       "True"
      ]
     },
     "execution_count": 7,
     "metadata": {},
     "output_type": "execute_result"
    }
   ],
   "source": [
    "nltk.download('wordnet')"
   ]
  },
  {
   "cell_type": "code",
   "execution_count": 8,
   "metadata": {},
   "outputs": [],
   "source": [
    "w_tokenizer = nltk.tokenize.WhitespaceTokenizer()\n",
    "lemmatizer = nltk.stem.WordNetLemmatizer()\n",
    "\n",
    "def lemmatize_text(text):\n",
    "    return [lemmatizer.lemmatize(w) for w in w_tokenizer.tokenize(text)]\n"
   ]
  },
  {
   "cell_type": "code",
   "execution_count": 9,
   "metadata": {},
   "outputs": [],
   "source": [
    "dfLematization = df.copy()"
   ]
  },
  {
   "cell_type": "code",
   "execution_count": 10,
   "metadata": {},
   "outputs": [
    {
     "data": {
      "text/html": [
       "<div>\n",
       "<style scoped>\n",
       "    .dataframe tbody tr th:only-of-type {\n",
       "        vertical-align: middle;\n",
       "    }\n",
       "\n",
       "    .dataframe tbody tr th {\n",
       "        vertical-align: top;\n",
       "    }\n",
       "\n",
       "    .dataframe thead th {\n",
       "        text-align: right;\n",
       "    }\n",
       "</style>\n",
       "<table border=\"1\" class=\"dataframe\">\n",
       "  <thead>\n",
       "    <tr style=\"text-align: right;\">\n",
       "      <th></th>\n",
       "      <th>Unnamed: 0</th>\n",
       "      <th>Question</th>\n",
       "      <th>Answer</th>\n",
       "    </tr>\n",
       "  </thead>\n",
       "  <tbody>\n",
       "    <tr>\n",
       "      <th>0</th>\n",
       "      <td>0</td>\n",
       "      <td>What Happens When Term Life Insurance Is Paid Up?</td>\n",
       "      <td>Actually term life insurance cannot be paid up...</td>\n",
       "    </tr>\n",
       "    <tr>\n",
       "      <th>1</th>\n",
       "      <td>3</td>\n",
       "      <td>What Does Renters Insurance Cover?</td>\n",
       "      <td>A renters insurance policy will typically prov...</td>\n",
       "    </tr>\n",
       "    <tr>\n",
       "      <th>2</th>\n",
       "      <td>5</td>\n",
       "      <td>Does Owning A Pitbull Raise Homeowners Insurance?</td>\n",
       "      <td>Most insurance companies do not surcharge for ...</td>\n",
       "    </tr>\n",
       "    <tr>\n",
       "      <th>3</th>\n",
       "      <td>6</td>\n",
       "      <td>What Should You Look For In Long Term Care Ins...</td>\n",
       "      <td>Every product purchase has a value proposition...</td>\n",
       "    </tr>\n",
       "    <tr>\n",
       "      <th>4</th>\n",
       "      <td>7</td>\n",
       "      <td>Will Medicare Pay For Smoking Cessation?</td>\n",
       "      <td>Medicare will not pay for smoking cessation pr...</td>\n",
       "    </tr>\n",
       "  </tbody>\n",
       "</table>\n",
       "</div>"
      ],
      "text/plain": [
       "   Unnamed: 0                                           Question  \\\n",
       "0           0  What Happens When Term Life Insurance Is Paid Up?   \n",
       "1           3                 What Does Renters Insurance Cover?   \n",
       "2           5  Does Owning A Pitbull Raise Homeowners Insurance?   \n",
       "3           6  What Should You Look For In Long Term Care Ins...   \n",
       "4           7           Will Medicare Pay For Smoking Cessation?   \n",
       "\n",
       "                                              Answer  \n",
       "0  Actually term life insurance cannot be paid up...  \n",
       "1  A renters insurance policy will typically prov...  \n",
       "2  Most insurance companies do not surcharge for ...  \n",
       "3  Every product purchase has a value proposition...  \n",
       "4  Medicare will not pay for smoking cessation pr...  "
      ]
     },
     "execution_count": 10,
     "metadata": {},
     "output_type": "execute_result"
    }
   ],
   "source": [
    "dfLematization['Question'] = dfLematization['Question'].apply(lemmatize_text)\n",
    "dfLematization['Question'] = dfLematization['Question'].str.join(' ')\n",
    "dfLematization.head()"
   ]
  },
  {
   "cell_type": "code",
   "execution_count": 11,
   "metadata": {},
   "outputs": [],
   "source": [
    "testDataLematization = df_test.copy()\n"
   ]
  },
  {
   "cell_type": "code",
   "execution_count": 12,
   "metadata": {},
   "outputs": [
    {
     "data": {
      "text/html": [
       "<div>\n",
       "<style scoped>\n",
       "    .dataframe tbody tr th:only-of-type {\n",
       "        vertical-align: middle;\n",
       "    }\n",
       "\n",
       "    .dataframe tbody tr th {\n",
       "        vertical-align: top;\n",
       "    }\n",
       "\n",
       "    .dataframe thead th {\n",
       "        text-align: right;\n",
       "    }\n",
       "</style>\n",
       "<table border=\"1\" class=\"dataframe\">\n",
       "  <thead>\n",
       "    <tr style=\"text-align: right;\">\n",
       "      <th></th>\n",
       "      <th>ID</th>\n",
       "      <th>Question</th>\n",
       "      <th>Q'</th>\n",
       "    </tr>\n",
       "  </thead>\n",
       "  <tbody>\n",
       "    <tr>\n",
       "      <th>0</th>\n",
       "      <td>20224</td>\n",
       "      <td>Does Homeowners Insurance Cover Pool Leaks?</td>\n",
       "      <td>Doe Homeowner Insurance Cover Pool Leak ?</td>\n",
       "    </tr>\n",
       "    <tr>\n",
       "      <th>1</th>\n",
       "      <td>20224</td>\n",
       "      <td>Does Homeowners Insurance Cover Pool Leaks?</td>\n",
       "      <td>Does Residents Insurance Cover Pool Leaks?</td>\n",
       "    </tr>\n",
       "    <tr>\n",
       "      <th>2</th>\n",
       "      <td>20224</td>\n",
       "      <td>Does Homeowners Insurance Cover Pool Leaks?</td>\n",
       "      <td>Do Pool Leaks Fall Under Homeowners Insurance?</td>\n",
       "    </tr>\n",
       "    <tr>\n",
       "      <th>3</th>\n",
       "      <td>8359</td>\n",
       "      <td>Does Usaa Offer Disability Insurance?</td>\n",
       "      <td>Doe Usaa Offer Disability Insurances ?</td>\n",
       "    </tr>\n",
       "    <tr>\n",
       "      <th>4</th>\n",
       "      <td>8359</td>\n",
       "      <td>Does Usaa Offer Disability Insurance?</td>\n",
       "      <td>Does Usaa Recommend Disability Insurance?</td>\n",
       "    </tr>\n",
       "  </tbody>\n",
       "</table>\n",
       "</div>"
      ],
      "text/plain": [
       "      ID                                      Question  \\\n",
       "0  20224  Does Homeowners Insurance Cover Pool Leaks?    \n",
       "1  20224  Does Homeowners Insurance Cover Pool Leaks?    \n",
       "2  20224  Does Homeowners Insurance Cover Pool Leaks?    \n",
       "3   8359        Does Usaa Offer Disability Insurance?    \n",
       "4   8359        Does Usaa Offer Disability Insurance?    \n",
       "\n",
       "                                               Q'  \n",
       "0       Doe Homeowner Insurance Cover Pool Leak ?  \n",
       "1      Does Residents Insurance Cover Pool Leaks?  \n",
       "2  Do Pool Leaks Fall Under Homeowners Insurance?  \n",
       "3          Doe Usaa Offer Disability Insurances ?  \n",
       "4       Does Usaa Recommend Disability Insurance?  "
      ]
     },
     "execution_count": 12,
     "metadata": {},
     "output_type": "execute_result"
    }
   ],
   "source": [
    "testDataLematization['Q\\''] = testDataLematization['Q\\''].apply(lemmatize_text)\n",
    "testDataLematization['Q\\''] = testDataLematization['Q\\''].str.join(' ')\n",
    "testDataLematization.head()"
   ]
  },
  {
   "cell_type": "code",
   "execution_count": 13,
   "metadata": {},
   "outputs": [
    {
     "name": "stdout",
     "output_type": "stream",
     "text": [
      "0           Does Homeowners Insurance Cover Pool Leaks?\n",
      "1           Does Homeowners Insurance Cover Pool Leaks?\n",
      "2           Does Homeowners Insurance Cover Pool Leaks?\n",
      "3                 Does Usaa Offer Disability Insurance?\n",
      "4                 Does Usaa Offer Disability Insurance?\n",
      "                            ...                        \n",
      "58    What Type Of Drug Test Is Used For Life Insura...\n",
      "59    What Type Of Drug Test Is Used For Life Insura...\n",
      "60       Can You Get Life Insurance On Someone In Jail?\n",
      "61       Can You Get Life Insurance On Someone In Jail?\n",
      "62       Can You Get Life Insurance On Someone In Jail?\n",
      "Name: Question, Length: 63, dtype: object\n"
     ]
    }
   ],
   "source": [
    "trueQuestions_L = trueQuestions.apply(lemmatize_text)\n",
    "trueQuestions_L = trueQuestions_L.str.join(' ')\n",
    "print(trueQuestions_L)"
   ]
  },
  {
   "cell_type": "code",
   "execution_count": 14,
   "metadata": {},
   "outputs": [
    {
     "name": "stdout",
     "output_type": "stream",
     "text": [
      "euclidean_distances: 2185\n",
      "manhattan_distances: 2268\n",
      "cosine_distances: 2185\n"
     ]
    },
    {
     "data": {
      "image/png": "[encoded data removed]",
      "text/plain": [
       "<Figure size 640x480 with 1 Axes>"
      ]
     },
     "metadata": {},
     "output_type": "display_data"
    }
   ],
   "source": [
    "findBestDistanceMetric(dfLematization['Question'], testDataLematization['Q\\''], trueQuestions_L)"
   ]
  },
  {
   "cell_type": "markdown",
   "metadata": {},
   "source": [
    "## As an addition to TF-IDF + best distance metric, add Stemming to the pipeline as a pre-processing step and evaluate how it affects model performance."
   ]
  },
  {
   "cell_type": "code",
   "execution_count": 15,
   "metadata": {},
   "outputs": [],
   "source": [
    "englishStemmer=SnowballStemmer(\"english\") \n",
    "def stem_text(text):\n",
    "    return [englishStemmer.stem(w) for w in w_tokenizer.tokenize(text)]"
   ]
  },
  {
   "cell_type": "code",
   "execution_count": 16,
   "metadata": {},
   "outputs": [],
   "source": [
    "dfStem = df.copy()"
   ]
  },
  {
   "cell_type": "code",
   "execution_count": 17,
   "metadata": {},
   "outputs": [
    {
     "data": {
      "text/html": [
       "<div>\n",
       "<style scoped>\n",
       "    .dataframe tbody tr th:only-of-type {\n",
       "        vertical-align: middle;\n",
       "    }\n",
       "\n",
       "    .dataframe tbody tr th {\n",
       "        vertical-align: top;\n",
       "    }\n",
       "\n",
       "    .dataframe thead th {\n",
       "        text-align: right;\n",
       "    }\n",
       "</style>\n",
       "<table border=\"1\" class=\"dataframe\">\n",
       "  <thead>\n",
       "    <tr style=\"text-align: right;\">\n",
       "      <th></th>\n",
       "      <th>Unnamed: 0</th>\n",
       "      <th>Question</th>\n",
       "      <th>Answer</th>\n",
       "    </tr>\n",
       "  </thead>\n",
       "  <tbody>\n",
       "    <tr>\n",
       "      <th>0</th>\n",
       "      <td>0</td>\n",
       "      <td>What Happens When Term Life Insurance Is Paid ...</td>\n",
       "      <td>Actually term life insurance cannot be paid up...</td>\n",
       "    </tr>\n",
       "    <tr>\n",
       "      <th>1</th>\n",
       "      <td>3</td>\n",
       "      <td>What Does Renters Insurance Cover?</td>\n",
       "      <td>A renters insurance policy will typically prov...</td>\n",
       "    </tr>\n",
       "    <tr>\n",
       "      <th>2</th>\n",
       "      <td>5</td>\n",
       "      <td>Does Owning A Pitbull Raise Homeowners Insuran...</td>\n",
       "      <td>Most insurance companies do not surcharge for ...</td>\n",
       "    </tr>\n",
       "    <tr>\n",
       "      <th>3</th>\n",
       "      <td>6</td>\n",
       "      <td>What Should You Look For In Long Term Care Ins...</td>\n",
       "      <td>Every product purchase has a value proposition...</td>\n",
       "    </tr>\n",
       "    <tr>\n",
       "      <th>4</th>\n",
       "      <td>7</td>\n",
       "      <td>Will Medicare Pay For Smoking Cessation?</td>\n",
       "      <td>Medicare will not pay for smoking cessation pr...</td>\n",
       "    </tr>\n",
       "  </tbody>\n",
       "</table>\n",
       "</div>"
      ],
      "text/plain": [
       "   Unnamed: 0                                           Question  \\\n",
       "0           0  What Happens When Term Life Insurance Is Paid ...   \n",
       "1           3                What Does Renters Insurance Cover?    \n",
       "2           5  Does Owning A Pitbull Raise Homeowners Insuran...   \n",
       "3           6  What Should You Look For In Long Term Care Ins...   \n",
       "4           7          Will Medicare Pay For Smoking Cessation?    \n",
       "\n",
       "                                              Answer  \n",
       "0  Actually term life insurance cannot be paid up...  \n",
       "1  A renters insurance policy will typically prov...  \n",
       "2  Most insurance companies do not surcharge for ...  \n",
       "3  Every product purchase has a value proposition...  \n",
       "4  Medicare will not pay for smoking cessation pr...  "
      ]
     },
     "execution_count": 17,
     "metadata": {},
     "output_type": "execute_result"
    }
   ],
   "source": [
    "dfStem.head()"
   ]
  },
  {
   "cell_type": "code",
   "execution_count": 18,
   "metadata": {},
   "outputs": [],
   "source": [
    "dfStem['Question'] = dfStem['Question'].apply(stem_text)"
   ]
  },
  {
   "cell_type": "code",
   "execution_count": 19,
   "metadata": {},
   "outputs": [
    {
     "data": {
      "text/html": [
       "<div>\n",
       "<style scoped>\n",
       "    .dataframe tbody tr th:only-of-type {\n",
       "        vertical-align: middle;\n",
       "    }\n",
       "\n",
       "    .dataframe tbody tr th {\n",
       "        vertical-align: top;\n",
       "    }\n",
       "\n",
       "    .dataframe thead th {\n",
       "        text-align: right;\n",
       "    }\n",
       "</style>\n",
       "<table border=\"1\" class=\"dataframe\">\n",
       "  <thead>\n",
       "    <tr style=\"text-align: right;\">\n",
       "      <th></th>\n",
       "      <th>Unnamed: 0</th>\n",
       "      <th>Question</th>\n",
       "      <th>Answer</th>\n",
       "    </tr>\n",
       "  </thead>\n",
       "  <tbody>\n",
       "    <tr>\n",
       "      <th>0</th>\n",
       "      <td>0</td>\n",
       "      <td>[what, happen, when, term, life, insur, is, pa...</td>\n",
       "      <td>Actually term life insurance cannot be paid up...</td>\n",
       "    </tr>\n",
       "    <tr>\n",
       "      <th>1</th>\n",
       "      <td>3</td>\n",
       "      <td>[what, doe, renter, insur, cover?]</td>\n",
       "      <td>A renters insurance policy will typically prov...</td>\n",
       "    </tr>\n",
       "    <tr>\n",
       "      <th>2</th>\n",
       "      <td>5</td>\n",
       "      <td>[doe, own, a, pitbul, rais, homeown, insurance?]</td>\n",
       "      <td>Most insurance companies do not surcharge for ...</td>\n",
       "    </tr>\n",
       "    <tr>\n",
       "      <th>3</th>\n",
       "      <td>6</td>\n",
       "      <td>[what, should, you, look, for, in, long, term,...</td>\n",
       "      <td>Every product purchase has a value proposition...</td>\n",
       "    </tr>\n",
       "    <tr>\n",
       "      <th>4</th>\n",
       "      <td>7</td>\n",
       "      <td>[will, medicar, pay, for, smoke, cessation?]</td>\n",
       "      <td>Medicare will not pay for smoking cessation pr...</td>\n",
       "    </tr>\n",
       "  </tbody>\n",
       "</table>\n",
       "</div>"
      ],
      "text/plain": [
       "   Unnamed: 0                                           Question  \\\n",
       "0           0  [what, happen, when, term, life, insur, is, pa...   \n",
       "1           3                 [what, doe, renter, insur, cover?]   \n",
       "2           5   [doe, own, a, pitbul, rais, homeown, insurance?]   \n",
       "3           6  [what, should, you, look, for, in, long, term,...   \n",
       "4           7       [will, medicar, pay, for, smoke, cessation?]   \n",
       "\n",
       "                                              Answer  \n",
       "0  Actually term life insurance cannot be paid up...  \n",
       "1  A renters insurance policy will typically prov...  \n",
       "2  Most insurance companies do not surcharge for ...  \n",
       "3  Every product purchase has a value proposition...  \n",
       "4  Medicare will not pay for smoking cessation pr...  "
      ]
     },
     "execution_count": 19,
     "metadata": {},
     "output_type": "execute_result"
    }
   ],
   "source": [
    "dfStem.head()"
   ]
  },
  {
   "cell_type": "code",
   "execution_count": 20,
   "metadata": {},
   "outputs": [],
   "source": [
    "dfStem['Question'] = dfStem['Question'].str.join(' ')"
   ]
  },
  {
   "cell_type": "code",
   "execution_count": 21,
   "metadata": {},
   "outputs": [
    {
     "data": {
      "text/html": [
       "<div>\n",
       "<style scoped>\n",
       "    .dataframe tbody tr th:only-of-type {\n",
       "        vertical-align: middle;\n",
       "    }\n",
       "\n",
       "    .dataframe tbody tr th {\n",
       "        vertical-align: top;\n",
       "    }\n",
       "\n",
       "    .dataframe thead th {\n",
       "        text-align: right;\n",
       "    }\n",
       "</style>\n",
       "<table border=\"1\" class=\"dataframe\">\n",
       "  <thead>\n",
       "    <tr style=\"text-align: right;\">\n",
       "      <th></th>\n",
       "      <th>Unnamed: 0</th>\n",
       "      <th>Question</th>\n",
       "      <th>Answer</th>\n",
       "    </tr>\n",
       "  </thead>\n",
       "  <tbody>\n",
       "    <tr>\n",
       "      <th>0</th>\n",
       "      <td>0</td>\n",
       "      <td>what happen when term life insur is paid up?</td>\n",
       "      <td>Actually term life insurance cannot be paid up...</td>\n",
       "    </tr>\n",
       "    <tr>\n",
       "      <th>1</th>\n",
       "      <td>3</td>\n",
       "      <td>what doe renter insur cover?</td>\n",
       "      <td>A renters insurance policy will typically prov...</td>\n",
       "    </tr>\n",
       "    <tr>\n",
       "      <th>2</th>\n",
       "      <td>5</td>\n",
       "      <td>doe own a pitbul rais homeown insurance?</td>\n",
       "      <td>Most insurance companies do not surcharge for ...</td>\n",
       "    </tr>\n",
       "    <tr>\n",
       "      <th>3</th>\n",
       "      <td>6</td>\n",
       "      <td>what should you look for in long term care ins...</td>\n",
       "      <td>Every product purchase has a value proposition...</td>\n",
       "    </tr>\n",
       "    <tr>\n",
       "      <th>4</th>\n",
       "      <td>7</td>\n",
       "      <td>will medicar pay for smoke cessation?</td>\n",
       "      <td>Medicare will not pay for smoking cessation pr...</td>\n",
       "    </tr>\n",
       "  </tbody>\n",
       "</table>\n",
       "</div>"
      ],
      "text/plain": [
       "   Unnamed: 0                                           Question  \\\n",
       "0           0       what happen when term life insur is paid up?   \n",
       "1           3                       what doe renter insur cover?   \n",
       "2           5           doe own a pitbul rais homeown insurance?   \n",
       "3           6  what should you look for in long term care ins...   \n",
       "4           7              will medicar pay for smoke cessation?   \n",
       "\n",
       "                                              Answer  \n",
       "0  Actually term life insurance cannot be paid up...  \n",
       "1  A renters insurance policy will typically prov...  \n",
       "2  Most insurance companies do not surcharge for ...  \n",
       "3  Every product purchase has a value proposition...  \n",
       "4  Medicare will not pay for smoking cessation pr...  "
      ]
     },
     "execution_count": 21,
     "metadata": {},
     "output_type": "execute_result"
    }
   ],
   "source": [
    "dfStem.head()"
   ]
  },
  {
   "cell_type": "code",
   "execution_count": 22,
   "metadata": {},
   "outputs": [],
   "source": [
    "testDataStem = df_test.copy()"
   ]
  },
  {
   "cell_type": "code",
   "execution_count": 23,
   "metadata": {},
   "outputs": [],
   "source": [
    "testDataStem['Q\\''] = testDataStem['Q\\''].apply(stem_text)"
   ]
  },
  {
   "cell_type": "code",
   "execution_count": 24,
   "metadata": {},
   "outputs": [],
   "source": [
    "testDataStem['Q\\''] = testDataStem['Q\\''].str.join(' ')"
   ]
  },
  {
   "cell_type": "code",
   "execution_count": 25,
   "metadata": {},
   "outputs": [
    {
     "name": "stdout",
     "output_type": "stream",
     "text": [
      "0                   doe homeown insur cover pool leaks?\n",
      "1                   doe homeown insur cover pool leaks?\n",
      "2                   doe homeown insur cover pool leaks?\n",
      "3                      doe usaa offer disabl insurance?\n",
      "4                      doe usaa offer disabl insurance?\n",
      "                            ...                        \n",
      "58    what type of drug test is use for life insurance?\n",
      "59    what type of drug test is use for life insurance?\n",
      "60            can you get life insur on someon in jail?\n",
      "61            can you get life insur on someon in jail?\n",
      "62            can you get life insur on someon in jail?\n",
      "Name: Question, Length: 63, dtype: object\n"
     ]
    }
   ],
   "source": [
    "trueQuestions_S = trueQuestions.apply(stem_text)\n",
    "trueQuestions_S = trueQuestions_S.str.join(' ')\n",
    "print(trueQuestions_S)"
   ]
  },
  {
   "cell_type": "code",
   "execution_count": 26,
   "metadata": {},
   "outputs": [
    {
     "name": "stdout",
     "output_type": "stream",
     "text": [
      "euclidean_distances: 2069\n",
      "manhattan_distances: 2105\n",
      "cosine_distances: 2070\n"
     ]
    },
    {
     "data": {
      "image/png": "[encoded data removed]",
      "text/plain": [
       "<Figure size 640x480 with 1 Axes>"
      ]
     },
     "metadata": {},
     "output_type": "display_data"
    }
   ],
   "source": [
    "findBestDistanceMetric(dfStem['Question'], testDataStem['Q\\''], trueQuestions_S)"
   ]
  },
  {
   "cell_type": "markdown",
   "metadata": {},
   "source": [
    " ## Experiment with n-grams as an extension of unigrams for word representation.\n",
    "\n"
   ]
  },
  {
   "cell_type": "code",
   "execution_count": 27,
   "metadata": {},
   "outputs": [],
   "source": [
    "def findBestDistanceMetricNgram(x,y,yTrue, nBest = 100):\n",
    "    performance = []\n",
    "    corpus = x\n",
    "    for ngram in [(1,1),(1,2), (2,2), (1,3), (2,3)]:\n",
    "        print(ngram)\n",
    "        vectorizer = TfidfVectorizer(ngram_range = ngram)\n",
    "        X = vectorizer.fit_transform(corpus)\n",
    "        testCorpus = y\n",
    "        Y = vectorizer.transform(testCorpus)\n",
    "        for distanceMetric in ('euclidean_distances','manhattan_distances','cosine_distances'):\n",
    "            score = 0\n",
    "            distance = eval(distanceMetric + '(Y,X)')\n",
    "            for i in range(0, len(yTrue)):\n",
    "                nInd = distance[i,:].argsort()[:nBest]\n",
    "                nQue = corpus[nInd]\n",
    "                realQ = yTrue[i]\n",
    "                temp = 2 * nBest\n",
    "                for k in range(0, nBest):\n",
    "                    if realQ == nQue[nInd[k]]:\n",
    "                        temp = k\n",
    "                        break\n",
    "                #if temp > nBest:\n",
    "                #    print('Pravo: ' + realQ)\n",
    "                #    print('Q\\': ' + testCorpus[i]) \n",
    "                score = score + temp\n",
    "            print(distanceMetric + ': ' + str(score))\n",
    "            performance.append(score)"
   ]
  },
  {
   "cell_type": "code",
   "execution_count": 28,
   "metadata": {},
   "outputs": [
    {
     "name": "stdout",
     "output_type": "stream",
     "text": [
      "(1, 1)\n",
      "euclidean_distances: 1996\n",
      "manhattan_distances: 2079\n",
      "cosine_distances: 1996\n",
      "(1, 2)\n",
      "euclidean_distances: 2265\n",
      "manhattan_distances: 2610\n",
      "cosine_distances: 2265\n",
      "(2, 2)\n",
      "euclidean_distances: 3475\n",
      "manhattan_distances: 3764\n",
      "cosine_distances: 3309\n",
      "(1, 3)\n",
      "euclidean_distances: 2328\n",
      "manhattan_distances: 2874\n",
      "cosine_distances: 2328\n",
      "(2, 3)\n",
      "euclidean_distances: 3522\n",
      "manhattan_distances: 5126\n",
      "cosine_distances: 3321\n"
     ]
    }
   ],
   "source": [
    "findBestDistanceMetricNgram(df['Question'], df_test['Q\\''], trueQuestions)"
   ]
  },
  {
   "cell_type": "markdown",
   "metadata": {},
   "source": [
    "## Evaluate how pairwise cosine or Unsupervised Nearest Neighbor (with KD-TREE or BALL-TREE) affect execution times, compared to sequential execution with for-loop."
   ]
  },
  {
   "cell_type": "code",
   "execution_count": 29,
   "metadata": {},
   "outputs": [],
   "source": [
    "yTrue = trueQuestions\n",
    "corpus = df['Question']\n",
    "vectorizer = TfidfVectorizer()\n",
    "X = vectorizer.fit_transform(corpus)\n",
    "testCorpus = df_test['Q\\'']\n",
    "nBest = 100"
   ]
  },
  {
   "cell_type": "markdown",
   "metadata": {},
   "source": [
    "## Pairwise\n"
   ]
  },
  {
   "cell_type": "code",
   "execution_count": 30,
   "metadata": {},
   "outputs": [
    {
     "name": "stdout",
     "output_type": "stream",
     "text": [
      "CPU times: user 102 ms, sys: 0 ns, total: 102 ms\n",
      "Wall time: 101 ms\n"
     ]
    }
   ],
   "source": [
    "%%time\n",
    "Y = vectorizer.transform(testCorpus)\n",
    "score = 0\n",
    "distance = cosine_distances(Y,X)\n",
    "for i in range(0, len(yTrue)):\n",
    "    nInd = distance[i,:].argsort()[:nBest]\n",
    "    nQue = corpus[nInd]\n",
    "    realQ = yTrue[i]\n",
    "    temp = 2 * nBest\n",
    "    for k in range(0, nBest):\n",
    "        if realQ == nQue[nInd[k]]:\n",
    "            temp = k\n",
    "            break\n",
    "    score = score + temp"
   ]
  },
  {
   "cell_type": "code",
   "execution_count": null,
   "metadata": {},
   "outputs": [],
   "source": []
  }
 ],
 "metadata": {
  "kernelspec": {
   "display_name": "Python 3",
   "language": "python",
   "name": "python3"
  },
  "language_info": {
   "codemirror_mode": {
    "name": "ipython",
    "version": 3
   },
   "file_extension": ".py",
   "mimetype": "text/x-python",
   "name": "python",
   "nbconvert_exporter": "python",
   "pygments_lexer": "ipython3",
   "version": "3.7.6"
  }
 },
 "nbformat": 4,
 "nbformat_minor": 4
}
