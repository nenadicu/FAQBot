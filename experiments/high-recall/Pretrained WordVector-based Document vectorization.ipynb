{
 "cells": [
  {
   "cell_type": "code",
   "execution_count": 1,
   "id": "d598caba",
   "metadata": {},
   "outputs": [],
   "source": [
    "import pandas as pd\n",
    "import numpy as np\n",
    "from sklearn.feature_extraction.text import TfidfVectorizer\n",
    "from sklearn.neighbors import NearestNeighbors\n",
    "from sklearn.metrics.pairwise import cosine_distances\n",
    "from sklearn.metrics.pairwise import manhattan_distances\n",
    "from sklearn.metrics.pairwise import euclidean_distances\n",
    "\n",
    "import nltk\n",
    "from nltk.corpus import wordnet as wn\n",
    "from nltk.stem.snowball import SnowballStemmer\n",
    "from nltk.tokenize import WhitespaceTokenizer as w_tokenizer\n",
    "import numpy\n",
    "import string\n",
    "import re\n",
    "import gensim.downloader\n",
    "\n",
    "import matplotlib.pyplot as plt; plt.rcdefaults()\n",
    "import matplotlib.pyplot as plt\n",
    "\n",
    "import spacy\n",
    "import en_core_web_lg\n",
    "\n",
    "import ssl\n",
    "ssl._create_default_https_context = ssl._create_unverified_context"
   ]
  },
  {
   "cell_type": "code",
   "execution_count": 2,
   "id": "3bf0e64c",
   "metadata": {},
   "outputs": [
    {
     "data": {
      "text/html": [
       "<div>\n",
       "<style scoped>\n",
       "    .dataframe tbody tr th:only-of-type {\n",
       "        vertical-align: middle;\n",
       "    }\n",
       "\n",
       "    .dataframe tbody tr th {\n",
       "        vertical-align: top;\n",
       "    }\n",
       "\n",
       "    .dataframe thead th {\n",
       "        text-align: right;\n",
       "    }\n",
       "</style>\n",
       "<table border=\"1\" class=\"dataframe\">\n",
       "  <thead>\n",
       "    <tr style=\"text-align: right;\">\n",
       "      <th></th>\n",
       "      <th>Question</th>\n",
       "      <th>Answer</th>\n",
       "    </tr>\n",
       "  </thead>\n",
       "  <tbody>\n",
       "    <tr>\n",
       "      <th>0</th>\n",
       "      <td>What Happens When Term Life Insurance Is Paid ...</td>\n",
       "      <td>Actually term life insurance cannot be paid up...</td>\n",
       "    </tr>\n",
       "    <tr>\n",
       "      <th>1</th>\n",
       "      <td>What Happens When Term Life Insurance Is Paid ...</td>\n",
       "      <td>Term life insurance is never paid up. Assuming...</td>\n",
       "    </tr>\n",
       "    <tr>\n",
       "      <th>2</th>\n",
       "      <td>What Happens When Term Life Insurance Is Paid ...</td>\n",
       "      <td>Term Life Insurance does not have the option t...</td>\n",
       "    </tr>\n",
       "    <tr>\n",
       "      <th>3</th>\n",
       "      <td>What Does Renters Insurance Cover?</td>\n",
       "      <td>A renters insurance policy will typically prov...</td>\n",
       "    </tr>\n",
       "    <tr>\n",
       "      <th>4</th>\n",
       "      <td>What Does Renters Insurance Cover?</td>\n",
       "      <td>If you apartment was on fire and all your pers...</td>\n",
       "    </tr>\n",
       "    <tr>\n",
       "      <th>...</th>\n",
       "      <td>...</td>\n",
       "      <td>...</td>\n",
       "    </tr>\n",
       "    <tr>\n",
       "      <th>27989</th>\n",
       "      <td>What is</td>\n",
       "      <td>I'm not sure.\\n</td>\n",
       "    </tr>\n",
       "    <tr>\n",
       "      <th>27990</th>\n",
       "      <td>Can I</td>\n",
       "      <td>I'm not sure.\\n</td>\n",
       "    </tr>\n",
       "    <tr>\n",
       "      <th>27991</th>\n",
       "      <td>Which</td>\n",
       "      <td>I'm not sure.\\n</td>\n",
       "    </tr>\n",
       "    <tr>\n",
       "      <th>27992</th>\n",
       "      <td>Does</td>\n",
       "      <td>I'm not sure.\\n</td>\n",
       "    </tr>\n",
       "    <tr>\n",
       "      <th>27993</th>\n",
       "      <td>Is</td>\n",
       "      <td>I'm not sure.\\n</td>\n",
       "    </tr>\n",
       "  </tbody>\n",
       "</table>\n",
       "<p>27994 rows × 2 columns</p>\n",
       "</div>"
      ],
      "text/plain": [
       "                                                Question  \\\n",
       "0      What Happens When Term Life Insurance Is Paid ...   \n",
       "1      What Happens When Term Life Insurance Is Paid ...   \n",
       "2      What Happens When Term Life Insurance Is Paid ...   \n",
       "3                    What Does Renters Insurance Cover?    \n",
       "4                    What Does Renters Insurance Cover?    \n",
       "...                                                  ...   \n",
       "27989                                           What is    \n",
       "27990                                             Can I    \n",
       "27991                                             Which    \n",
       "27992                                              Does    \n",
       "27993                                                Is    \n",
       "\n",
       "                                                  Answer  \n",
       "0      Actually term life insurance cannot be paid up...  \n",
       "1      Term life insurance is never paid up. Assuming...  \n",
       "2      Term Life Insurance does not have the option t...  \n",
       "3      A renters insurance policy will typically prov...  \n",
       "4      If you apartment was on fire and all your pers...  \n",
       "...                                                  ...  \n",
       "27989                                    I'm not sure.\\n  \n",
       "27990                                    I'm not sure.\\n  \n",
       "27991                                    I'm not sure.\\n  \n",
       "27992                                    I'm not sure.\\n  \n",
       "27993                                    I'm not sure.\\n  \n",
       "\n",
       "[27994 rows x 2 columns]"
      ]
     },
     "execution_count": 2,
     "metadata": {},
     "output_type": "execute_result"
    }
   ],
   "source": [
    "df = pd.read_csv('../../data/insurance_qna_dataset.csv',delimiter=\"\\t\")\n",
    "df.head()\n",
    "df.drop('Unnamed: 0',axis = 1)"
   ]
  },
  {
   "cell_type": "code",
   "execution_count": 3,
   "id": "cd83bb12",
   "metadata": {},
   "outputs": [
    {
     "ename": "ImportError",
     "evalue": "Missing optional dependency 'openpyxl'.  Use pip or conda to install openpyxl.",
     "output_type": "error",
     "traceback": [
      "\u001b[0;31m---------------------------------------------------------------------------\u001b[0m",
      "\u001b[0;31mImportError\u001b[0m                               Traceback (most recent call last)",
      "\u001b[0;32m/tmp/ipykernel_392668/3161824137.py\u001b[0m in \u001b[0;36m<module>\u001b[0;34m\u001b[0m\n\u001b[0;32m----> 1\u001b[0;31m \u001b[0mdf_test\u001b[0m \u001b[0;34m=\u001b[0m \u001b[0mpd\u001b[0m\u001b[0;34m.\u001b[0m\u001b[0mread_excel\u001b[0m\u001b[0;34m(\u001b[0m\u001b[0;34m'../../data/testData.xlsx'\u001b[0m\u001b[0;34m)\u001b[0m\u001b[0;34m\u001b[0m\u001b[0;34m\u001b[0m\u001b[0m\n\u001b[0m\u001b[1;32m      2\u001b[0m \u001b[0mtrueQuestions\u001b[0m \u001b[0;34m=\u001b[0m \u001b[0mdf\u001b[0m\u001b[0;34m[\u001b[0m\u001b[0;34m'Question'\u001b[0m\u001b[0;34m]\u001b[0m\u001b[0;34m[\u001b[0m\u001b[0mdf_test\u001b[0m\u001b[0;34m[\u001b[0m\u001b[0;34m'ID'\u001b[0m\u001b[0;34m]\u001b[0m\u001b[0;34m]\u001b[0m\u001b[0;34m.\u001b[0m\u001b[0mreset_index\u001b[0m\u001b[0;34m(\u001b[0m\u001b[0;34m)\u001b[0m\u001b[0;34m\u001b[0m\u001b[0;34m\u001b[0m\u001b[0m\n\u001b[1;32m      3\u001b[0m \u001b[0mtrueQuestions\u001b[0m \u001b[0;34m=\u001b[0m \u001b[0mtrueQuestions\u001b[0m\u001b[0;34m[\u001b[0m\u001b[0;34m'Question'\u001b[0m\u001b[0;34m]\u001b[0m\u001b[0;34m\u001b[0m\u001b[0;34m\u001b[0m\u001b[0m\n\u001b[1;32m      4\u001b[0m \u001b[0mdf_test\u001b[0m\u001b[0;34m.\u001b[0m\u001b[0mhead\u001b[0m\u001b[0;34m(\u001b[0m\u001b[0;34m)\u001b[0m\u001b[0;34m\u001b[0m\u001b[0;34m\u001b[0m\u001b[0m\n",
      "\u001b[0;32m~/anaconda3/lib/python3.7/site-packages/pandas/util/_decorators.py\u001b[0m in \u001b[0;36mwrapper\u001b[0;34m(*args, **kwargs)\u001b[0m\n\u001b[1;32m    309\u001b[0m                     \u001b[0mstacklevel\u001b[0m\u001b[0;34m=\u001b[0m\u001b[0mstacklevel\u001b[0m\u001b[0;34m,\u001b[0m\u001b[0;34m\u001b[0m\u001b[0;34m\u001b[0m\u001b[0m\n\u001b[1;32m    310\u001b[0m                 )\n\u001b[0;32m--> 311\u001b[0;31m             \u001b[0;32mreturn\u001b[0m \u001b[0mfunc\u001b[0m\u001b[0;34m(\u001b[0m\u001b[0;34m*\u001b[0m\u001b[0margs\u001b[0m\u001b[0;34m,\u001b[0m \u001b[0;34m**\u001b[0m\u001b[0mkwargs\u001b[0m\u001b[0;34m)\u001b[0m\u001b[0;34m\u001b[0m\u001b[0;34m\u001b[0m\u001b[0m\n\u001b[0m\u001b[1;32m    312\u001b[0m \u001b[0;34m\u001b[0m\u001b[0m\n\u001b[1;32m    313\u001b[0m         \u001b[0;32mreturn\u001b[0m \u001b[0mwrapper\u001b[0m\u001b[0;34m\u001b[0m\u001b[0;34m\u001b[0m\u001b[0m\n",
      "\u001b[0;32m~/anaconda3/lib/python3.7/site-packages/pandas/io/excel/_base.py\u001b[0m in \u001b[0;36mread_excel\u001b[0;34m(io, sheet_name, header, names, index_col, usecols, squeeze, dtype, engine, converters, true_values, false_values, skiprows, nrows, na_values, keep_default_na, na_filter, verbose, parse_dates, date_parser, thousands, comment, skipfooter, convert_float, mangle_dupe_cols, storage_options)\u001b[0m\n\u001b[1;32m    362\u001b[0m     \u001b[0;32mif\u001b[0m \u001b[0;32mnot\u001b[0m \u001b[0misinstance\u001b[0m\u001b[0;34m(\u001b[0m\u001b[0mio\u001b[0m\u001b[0;34m,\u001b[0m \u001b[0mExcelFile\u001b[0m\u001b[0;34m)\u001b[0m\u001b[0;34m:\u001b[0m\u001b[0;34m\u001b[0m\u001b[0;34m\u001b[0m\u001b[0m\n\u001b[1;32m    363\u001b[0m         \u001b[0mshould_close\u001b[0m \u001b[0;34m=\u001b[0m \u001b[0;32mTrue\u001b[0m\u001b[0;34m\u001b[0m\u001b[0;34m\u001b[0m\u001b[0m\n\u001b[0;32m--> 364\u001b[0;31m         \u001b[0mio\u001b[0m \u001b[0;34m=\u001b[0m \u001b[0mExcelFile\u001b[0m\u001b[0;34m(\u001b[0m\u001b[0mio\u001b[0m\u001b[0;34m,\u001b[0m \u001b[0mstorage_options\u001b[0m\u001b[0;34m=\u001b[0m\u001b[0mstorage_options\u001b[0m\u001b[0;34m,\u001b[0m \u001b[0mengine\u001b[0m\u001b[0;34m=\u001b[0m\u001b[0mengine\u001b[0m\u001b[0;34m)\u001b[0m\u001b[0;34m\u001b[0m\u001b[0;34m\u001b[0m\u001b[0m\n\u001b[0m\u001b[1;32m    365\u001b[0m     \u001b[0;32melif\u001b[0m \u001b[0mengine\u001b[0m \u001b[0;32mand\u001b[0m \u001b[0mengine\u001b[0m \u001b[0;34m!=\u001b[0m \u001b[0mio\u001b[0m\u001b[0;34m.\u001b[0m\u001b[0mengine\u001b[0m\u001b[0;34m:\u001b[0m\u001b[0;34m\u001b[0m\u001b[0;34m\u001b[0m\u001b[0m\n\u001b[1;32m    366\u001b[0m         raise ValueError(\n",
      "\u001b[0;32m~/anaconda3/lib/python3.7/site-packages/pandas/io/excel/_base.py\u001b[0m in \u001b[0;36m__init__\u001b[0;34m(self, path_or_buffer, engine, storage_options)\u001b[0m\n\u001b[1;32m   1231\u001b[0m         \u001b[0mself\u001b[0m\u001b[0;34m.\u001b[0m\u001b[0mstorage_options\u001b[0m \u001b[0;34m=\u001b[0m \u001b[0mstorage_options\u001b[0m\u001b[0;34m\u001b[0m\u001b[0;34m\u001b[0m\u001b[0m\n\u001b[1;32m   1232\u001b[0m \u001b[0;34m\u001b[0m\u001b[0m\n\u001b[0;32m-> 1233\u001b[0;31m         \u001b[0mself\u001b[0m\u001b[0;34m.\u001b[0m\u001b[0m_reader\u001b[0m \u001b[0;34m=\u001b[0m \u001b[0mself\u001b[0m\u001b[0;34m.\u001b[0m\u001b[0m_engines\u001b[0m\u001b[0;34m[\u001b[0m\u001b[0mengine\u001b[0m\u001b[0;34m]\u001b[0m\u001b[0;34m(\u001b[0m\u001b[0mself\u001b[0m\u001b[0;34m.\u001b[0m\u001b[0m_io\u001b[0m\u001b[0;34m,\u001b[0m \u001b[0mstorage_options\u001b[0m\u001b[0;34m=\u001b[0m\u001b[0mstorage_options\u001b[0m\u001b[0;34m)\u001b[0m\u001b[0;34m\u001b[0m\u001b[0;34m\u001b[0m\u001b[0m\n\u001b[0m\u001b[1;32m   1234\u001b[0m \u001b[0;34m\u001b[0m\u001b[0m\n\u001b[1;32m   1235\u001b[0m     \u001b[0;32mdef\u001b[0m \u001b[0m__fspath__\u001b[0m\u001b[0;34m(\u001b[0m\u001b[0mself\u001b[0m\u001b[0;34m)\u001b[0m\u001b[0;34m:\u001b[0m\u001b[0;34m\u001b[0m\u001b[0;34m\u001b[0m\u001b[0m\n",
      "\u001b[0;32m~/anaconda3/lib/python3.7/site-packages/pandas/io/excel/_openpyxl.py\u001b[0m in \u001b[0;36m__init__\u001b[0;34m(self, filepath_or_buffer, storage_options)\u001b[0m\n\u001b[1;32m    519\u001b[0m             \u001b[0mpassed\u001b[0m \u001b[0mto\u001b[0m \u001b[0mfsspec\u001b[0m \u001b[0;32mfor\u001b[0m \u001b[0mappropriate\u001b[0m \u001b[0mURLs\u001b[0m \u001b[0;34m(\u001b[0m\u001b[0msee\u001b[0m\u001b[0;31m \u001b[0m\u001b[0;31m`\u001b[0m\u001b[0;31m`\u001b[0m\u001b[0m_get_filepath_or_buffer\u001b[0m\u001b[0;31m`\u001b[0m\u001b[0;31m`\u001b[0m\u001b[0;34m)\u001b[0m\u001b[0;34m\u001b[0m\u001b[0;34m\u001b[0m\u001b[0m\n\u001b[1;32m    520\u001b[0m         \"\"\"\n\u001b[0;32m--> 521\u001b[0;31m         \u001b[0mimport_optional_dependency\u001b[0m\u001b[0;34m(\u001b[0m\u001b[0;34m\"openpyxl\"\u001b[0m\u001b[0;34m)\u001b[0m\u001b[0;34m\u001b[0m\u001b[0;34m\u001b[0m\u001b[0m\n\u001b[0m\u001b[1;32m    522\u001b[0m         \u001b[0msuper\u001b[0m\u001b[0;34m(\u001b[0m\u001b[0;34m)\u001b[0m\u001b[0;34m.\u001b[0m\u001b[0m__init__\u001b[0m\u001b[0;34m(\u001b[0m\u001b[0mfilepath_or_buffer\u001b[0m\u001b[0;34m,\u001b[0m \u001b[0mstorage_options\u001b[0m\u001b[0;34m=\u001b[0m\u001b[0mstorage_options\u001b[0m\u001b[0;34m)\u001b[0m\u001b[0;34m\u001b[0m\u001b[0;34m\u001b[0m\u001b[0m\n\u001b[1;32m    523\u001b[0m \u001b[0;34m\u001b[0m\u001b[0m\n",
      "\u001b[0;32m~/anaconda3/lib/python3.7/site-packages/pandas/compat/_optional.py\u001b[0m in \u001b[0;36mimport_optional_dependency\u001b[0;34m(name, extra, errors, min_version)\u001b[0m\n\u001b[1;32m    116\u001b[0m     \u001b[0;32mexcept\u001b[0m \u001b[0mImportError\u001b[0m\u001b[0;34m:\u001b[0m\u001b[0;34m\u001b[0m\u001b[0;34m\u001b[0m\u001b[0m\n\u001b[1;32m    117\u001b[0m         \u001b[0;32mif\u001b[0m \u001b[0merrors\u001b[0m \u001b[0;34m==\u001b[0m \u001b[0;34m\"raise\"\u001b[0m\u001b[0;34m:\u001b[0m\u001b[0;34m\u001b[0m\u001b[0;34m\u001b[0m\u001b[0m\n\u001b[0;32m--> 118\u001b[0;31m             \u001b[0;32mraise\u001b[0m \u001b[0mImportError\u001b[0m\u001b[0;34m(\u001b[0m\u001b[0mmsg\u001b[0m\u001b[0;34m)\u001b[0m \u001b[0;32mfrom\u001b[0m \u001b[0;32mNone\u001b[0m\u001b[0;34m\u001b[0m\u001b[0;34m\u001b[0m\u001b[0m\n\u001b[0m\u001b[1;32m    119\u001b[0m         \u001b[0;32melse\u001b[0m\u001b[0;34m:\u001b[0m\u001b[0;34m\u001b[0m\u001b[0;34m\u001b[0m\u001b[0m\n\u001b[1;32m    120\u001b[0m             \u001b[0;32mreturn\u001b[0m \u001b[0;32mNone\u001b[0m\u001b[0;34m\u001b[0m\u001b[0;34m\u001b[0m\u001b[0m\n",
      "\u001b[0;31mImportError\u001b[0m: Missing optional dependency 'openpyxl'.  Use pip or conda to install openpyxl."
     ]
    }
   ],
   "source": [
    "df_test = pd.read_excel('../../data/testData.xlsx')\n",
    "trueQuestions = df['Question'][df_test['ID']].reset_index()\n",
    "trueQuestions = trueQuestions['Question']\n",
    "df_test.head()"
   ]
  },
  {
   "cell_type": "code",
   "execution_count": 4,
   "id": "743b9085",
   "metadata": {},
   "outputs": [],
   "source": [
    "df.drop_duplicates('Question', inplace = True, ignore_index = True)"
   ]
  },
  {
   "cell_type": "markdown",
   "id": "8ed725dd",
   "metadata": {},
   "source": [
    "## Task 13: Pretrained word vectors combined with sum and average vector arithmetics"
   ]
  },
  {
   "cell_type": "code",
   "execution_count": 5,
   "id": "c88bfe28",
   "metadata": {},
   "outputs": [],
   "source": [
    "#news_vectors = gensim.downloader.load('glove-wiki-gigaword-50')"
   ]
  },
  {
   "cell_type": "code",
   "execution_count": 6,
   "id": "46cd57af",
   "metadata": {},
   "outputs": [],
   "source": [
    "#glove_vectors = gensim.downloader.load('glove-wiki-gigaword-300')\n",
    "\n",
    "#glove_vectors.save('wiki300.vectors')\n",
    "\n",
    "from gensim.models import KeyedVectors\n",
    "\n",
    "glove_vectors = KeyedVectors.load('wiki300.vectors')"
   ]
  },
  {
   "cell_type": "code",
   "execution_count": 7,
   "id": "d7be9023",
   "metadata": {},
   "outputs": [],
   "source": [
    "def getVectors(dataFrame):\n",
    "    sentances = []\n",
    "    for question in dataFrame:\n",
    "        newVector = np.zeros(300, dtype= float)\n",
    "        for word in question.split(\" \"):\n",
    "            word = word.lower()\n",
    "            try:\n",
    "                vector = glove_vectors[word]\n",
    "                newVector += vector\n",
    "            except:\n",
    "                continue\n",
    "        sentances.append(newVector)\n",
    "    return sentances"
   ]
  },
  {
   "cell_type": "code",
   "execution_count": 8,
   "id": "76ff2ee8",
   "metadata": {},
   "outputs": [],
   "source": [
    "def findBestDistanceMetric(x,y,yTrue, nBest = 100):\n",
    "    performance = []\n",
    "    corpus = x\n",
    "    X = getVectors(corpus)\n",
    "    testCorpus = y\n",
    "    Y = getVectors(testCorpus)\n",
    "    for distanceMetric in ('euclidean_distances','manhattan_distances','cosine_distances'):\n",
    "        score = 0\n",
    "        distance = eval(distanceMetric + '(Y,X)')\n",
    "        for i in range(0, len(yTrue)):\n",
    "            nInd = distance[i,:].argsort()[:nBest]\n",
    "            nQue = corpus[nInd]\n",
    "            realQ = yTrue[i]\n",
    "            temp = 2 * nBest\n",
    "            for k in range(0, nBest):\n",
    "                if realQ == nQue[nInd[k]]:\n",
    "                    temp = k\n",
    "                    break\n",
    "            score = score + temp\n",
    "        print(distanceMetric + ': ' + str(score))\n",
    "        performance.append(score)\n",
    "    objects = ('euclidean_distances','manhattan_distances','cosine_distances')\n",
    "    y_pos = np.arange(len(objects))\n",
    "    plt.bar(y_pos, performance, align='center', alpha=0.5)\n",
    "    plt.xticks(y_pos, objects)\n",
    "    plt.ylabel('Error')\n",
    "    plt.title('Error for different metrics')\n",
    "    plt.show()     "
   ]
  },
  {
   "cell_type": "code",
   "execution_count": 9,
   "id": "ab520dcc",
   "metadata": {},
   "outputs": [
    {
     "name": "stdout",
     "output_type": "stream",
     "text": [
      "euclidean_distances: 3296\n",
      "manhattan_distances: 3179\n",
      "cosine_distances: 2654\n"
     ]
    },
    {
     "data": {
      "image/png": "[encoded data removed]",
      "text/plain": [
       "<Figure size 640x480 with 1 Axes>"
      ]
     },
     "metadata": {},
     "output_type": "display_data"
    }
   ],
   "source": [
    "findBestDistanceMetric(df['Question'], df_test['Q\\''], trueQuestions)"
   ]
  },
  {
   "cell_type": "markdown",
   "id": "3c7353bb",
   "metadata": {},
   "source": [
    "##  Task 14: Pretrained word vectors combined with IDF weighted average and sum vector arithmetics"
   ]
  },
  {
   "cell_type": "code",
   "execution_count": 10,
   "id": "3348d76a",
   "metadata": {},
   "outputs": [],
   "source": [
    "def getVectorsIDF(dataFrame):\n",
    "    vectorizer = TfidfVectorizer()\n",
    "    vectorizer.fit_transform(dataFrame)\n",
    "    dictionary = {k: v for k, v in zip(vectorizer.get_feature_names(), vectorizer.idf_)}\n",
    "    sentances = []\n",
    "    for question in dataFrame:\n",
    "        newVector = np.zeros(300, dtype= float)\n",
    "        for word in question.split(\" \"):\n",
    "            word = word.lower()\n",
    "            try:\n",
    "                vector = glove_vectors[word]\n",
    "                coef = dictionary[word]\n",
    "                result = vector * coef\n",
    "                newVector += result\n",
    "            except:\n",
    "                continue\n",
    "        sentances.append(newVector)\n",
    "    return sentances"
   ]
  },
  {
   "cell_type": "code",
   "execution_count": 11,
   "id": "a63c7c3c",
   "metadata": {},
   "outputs": [],
   "source": [
    "def findBestDistanceMetricIDF(x,y,yTrue, nBest = 100):\n",
    "    performance = []\n",
    "    corpus = x\n",
    "    X = getVectorsIDF(corpus)\n",
    "    testCorpus = y\n",
    "    Y = getVectorsIDF(testCorpus)\n",
    "    for distanceMetric in ('euclidean_distances','manhattan_distances','cosine_distances'):\n",
    "        score = 0\n",
    "        distance = eval(distanceMetric + '(Y,X)')\n",
    "        for i in range(0, len(yTrue)):\n",
    "            nInd = distance[i,:].argsort()[:nBest]\n",
    "            nQue = corpus[nInd]\n",
    "            realQ = yTrue[i]\n",
    "            temp = 2 * nBest\n",
    "            for k in range(0, nBest):\n",
    "                if realQ == nQue[nInd[k]]:\n",
    "                    temp = k\n",
    "                    break\n",
    "            score = score + temp\n",
    "        print(distanceMetric + ': ' + str(score))\n",
    "        performance.append(score)\n",
    "    objects = ('euclidean_distances','manhattan_distances','cosine_distances')\n",
    "    y_pos = np.arange(len(objects))\n",
    "    plt.bar(y_pos, performance, align='center', alpha=0.5)\n",
    "    plt.xticks(y_pos, objects)\n",
    "    plt.ylabel('Error')\n",
    "    plt.title('Error for different metrics')\n",
    "    plt.show()    "
   ]
  },
  {
   "cell_type": "code",
   "execution_count": 12,
   "id": "73210cb5",
   "metadata": {},
   "outputs": [
    {
     "name": "stdout",
     "output_type": "stream",
     "text": [
      "euclidean_distances: 5736\n",
      "manhattan_distances: 5144\n",
      "cosine_distances: 3243\n"
     ]
    },
    {
     "data": {
      "image/png": "[encoded data removed]",
      "text/plain": [
       "<Figure size 640x480 with 1 Axes>"
      ]
     },
     "metadata": {},
     "output_type": "display_data"
    }
   ],
   "source": [
    "findBestDistanceMetricIDF(df['Question'], df_test['Q\\''], trueQuestions)"
   ]
  },
  {
   "cell_type": "markdown",
   "id": "14df0a26",
   "metadata": {},
   "source": [
    "## Task 15: Pretrained word vectors combined with POS+NER weighted average and sum vector arithmetics"
   ]
  },
  {
   "cell_type": "code",
   "execution_count": 13,
   "id": "ebd3054d",
   "metadata": {},
   "outputs": [],
   "source": [
    "nlp = en_core_web_lg.load()"
   ]
  },
  {
   "cell_type": "code",
   "execution_count": 14,
   "id": "ec4b1a2c",
   "metadata": {},
   "outputs": [
    {
     "name": "stdout",
     "output_type": "stream",
     "text": [
      "I\n",
      "PRON\n",
      "want\n",
      "VERB\n",
      "to\n",
      "PART\n",
      "ride\n",
      "VERB\n",
      "a\n",
      "DET\n",
      "bike\n",
      "NOUN\n"
     ]
    }
   ],
   "source": [
    "test = nlp(\"I want to ride a bike\")\n",
    "for token in test:\n",
    "    print(token.text)\n",
    "    print(token.pos_)"
   ]
  },
  {
   "cell_type": "code",
   "execution_count": 15,
   "id": "f6a6d8c5",
   "metadata": {},
   "outputs": [],
   "source": [
    "def getVectorsPOS(dataFrame):\n",
    "    sentances = []\n",
    "    coef = 1\n",
    "    for question in dataFrame:\n",
    "        newVector = np.zeros(300, dtype= float)\n",
    "        for word in nlp(question):\n",
    "            try:              \n",
    "                vector = glove_vectors[word.text.lower()]\n",
    "                if token.pos_ == 'VERB' or token.pos_ == 'PROPN':\n",
    "                    coef = 1.5\n",
    "                elif token.pos_ == 'ADV' or token.pos_ == \"ADJ\":\n",
    "                    coef = 1.2\n",
    "                elif token.pos_ == 'ADP' or token.pos_ == \"AUX\" or token.pos_ == 'CONJ' or token.pos_ == \"DET\" or token.pos_ == 'INTJ': \n",
    "                    coef = 0.7\n",
    "                else:\n",
    "                    coef = 1\n",
    "                result = vector * coef\n",
    "                newVector += result\n",
    "            except:\n",
    "                continue\n",
    "        sentances.append(newVector)\n",
    "    return sentances"
   ]
  },
  {
   "cell_type": "code",
   "execution_count": 16,
   "id": "e2252198",
   "metadata": {},
   "outputs": [],
   "source": [
    "def findBestDistanceMetricPOS(x,y,yTrue, nBest = 100):\n",
    "    performance = []\n",
    "    corpus = x\n",
    "    X = getVectorsPOS(corpus)\n",
    "    testCorpus = y\n",
    "    Y = getVectorsPOS(testCorpus)\n",
    "    for distanceMetric in ('euclidean_distances','manhattan_distances','cosine_distances'):\n",
    "        score = 0\n",
    "        distance = eval(distanceMetric + '(Y,X)')\n",
    "        for i in range(0, len(yTrue)):\n",
    "            nInd = distance[i,:].argsort()[:nBest]\n",
    "            nQue = corpus[nInd]\n",
    "            realQ = yTrue[i]\n",
    "            temp = 2 * nBest\n",
    "            for k in range(0, nBest):\n",
    "                if realQ == nQue[nInd[k]]:\n",
    "                    temp = k\n",
    "                    break\n",
    "            score = score + temp\n",
    "        print(distanceMetric + ': ' + str(score))\n",
    "        performance.append(score)\n",
    "    objects = ('euclidean_distances','manhattan_distances','cosine_distances')\n",
    "    y_pos = np.arange(len(objects))\n",
    "    plt.bar(y_pos, performance, align='center', alpha=0.5)\n",
    "    plt.xticks(y_pos, objects)\n",
    "    plt.ylabel('Error')\n",
    "    plt.title('Error for different metrics')\n",
    "    plt.show()    "
   ]
  },
  {
   "cell_type": "code",
   "execution_count": 17,
   "id": "0019ff55",
   "metadata": {},
   "outputs": [
    {
     "name": "stdout",
     "output_type": "stream",
     "text": [
      "euclidean_distances: 1956\n",
      "manhattan_distances: 1813\n",
      "cosine_distances: 1624\n"
     ]
    },
    {
     "data": {
      "image/png": "[encoded data removed]",
      "text/plain": [
       "<Figure size 640x480 with 1 Axes>"
      ]
     },
     "metadata": {},
     "output_type": "display_data"
    }
   ],
   "source": [
    "findBestDistanceMetricPOS(df['Question'], df_test['Q\\''], trueQuestions)"
   ]
  },
  {
   "cell_type": "code",
   "execution_count": null,
   "id": "db86ae6b",
   "metadata": {},
   "outputs": [],
   "source": []
  }
 ],
 "metadata": {
  "kernelspec": {
   "display_name": "Python 3 (ipykernel)",
   "language": "python",
   "name": "python3"
  },
  "language_info": {
   "codemirror_mode": {
    "name": "ipython",
    "version": 3
   },
   "file_extension": ".py",
   "mimetype": "text/x-python",
   "name": "python",
   "nbconvert_exporter": "python",
   "pygments_lexer": "ipython3",
   "version": "3.9.12"
  }
 },
 "nbformat": 4,
 "nbformat_minor": 5
}
